{
 "cells": [
  {
   "cell_type": "code",
   "execution_count": 38,
   "id": "1b708688",
   "metadata": {},
   "outputs": [
    {
     "data": {
      "text/plain": [
       "{'data': array([[ 0.,  0.,  5., ...,  0.,  0.,  0.],\n",
       "        [ 0.,  0.,  0., ..., 10.,  0.,  0.],\n",
       "        [ 0.,  0.,  0., ..., 16.,  9.,  0.],\n",
       "        ...,\n",
       "        [ 0.,  0.,  1., ...,  6.,  0.,  0.],\n",
       "        [ 0.,  0.,  2., ..., 12.,  0.,  0.],\n",
       "        [ 0.,  0., 10., ..., 12.,  1.,  0.]]),\n",
       " 'target': array([0, 1, 2, ..., 8, 9, 8]),\n",
       " 'frame': None,\n",
       " 'feature_names': ['pixel_0_0',\n",
       "  'pixel_0_1',\n",
       "  'pixel_0_2',\n",
       "  'pixel_0_3',\n",
       "  'pixel_0_4',\n",
       "  'pixel_0_5',\n",
       "  'pixel_0_6',\n",
       "  'pixel_0_7',\n",
       "  'pixel_1_0',\n",
       "  'pixel_1_1',\n",
       "  'pixel_1_2',\n",
       "  'pixel_1_3',\n",
       "  'pixel_1_4',\n",
       "  'pixel_1_5',\n",
       "  'pixel_1_6',\n",
       "  'pixel_1_7',\n",
       "  'pixel_2_0',\n",
       "  'pixel_2_1',\n",
       "  'pixel_2_2',\n",
       "  'pixel_2_3',\n",
       "  'pixel_2_4',\n",
       "  'pixel_2_5',\n",
       "  'pixel_2_6',\n",
       "  'pixel_2_7',\n",
       "  'pixel_3_0',\n",
       "  'pixel_3_1',\n",
       "  'pixel_3_2',\n",
       "  'pixel_3_3',\n",
       "  'pixel_3_4',\n",
       "  'pixel_3_5',\n",
       "  'pixel_3_6',\n",
       "  'pixel_3_7',\n",
       "  'pixel_4_0',\n",
       "  'pixel_4_1',\n",
       "  'pixel_4_2',\n",
       "  'pixel_4_3',\n",
       "  'pixel_4_4',\n",
       "  'pixel_4_5',\n",
       "  'pixel_4_6',\n",
       "  'pixel_4_7',\n",
       "  'pixel_5_0',\n",
       "  'pixel_5_1',\n",
       "  'pixel_5_2',\n",
       "  'pixel_5_3',\n",
       "  'pixel_5_4',\n",
       "  'pixel_5_5',\n",
       "  'pixel_5_6',\n",
       "  'pixel_5_7',\n",
       "  'pixel_6_0',\n",
       "  'pixel_6_1',\n",
       "  'pixel_6_2',\n",
       "  'pixel_6_3',\n",
       "  'pixel_6_4',\n",
       "  'pixel_6_5',\n",
       "  'pixel_6_6',\n",
       "  'pixel_6_7',\n",
       "  'pixel_7_0',\n",
       "  'pixel_7_1',\n",
       "  'pixel_7_2',\n",
       "  'pixel_7_3',\n",
       "  'pixel_7_4',\n",
       "  'pixel_7_5',\n",
       "  'pixel_7_6',\n",
       "  'pixel_7_7'],\n",
       " 'target_names': array([0, 1, 2, 3, 4, 5, 6, 7, 8, 9]),\n",
       " 'images': array([[[ 0.,  0.,  5., ...,  1.,  0.,  0.],\n",
       "         [ 0.,  0., 13., ..., 15.,  5.,  0.],\n",
       "         [ 0.,  3., 15., ..., 11.,  8.,  0.],\n",
       "         ...,\n",
       "         [ 0.,  4., 11., ..., 12.,  7.,  0.],\n",
       "         [ 0.,  2., 14., ..., 12.,  0.,  0.],\n",
       "         [ 0.,  0.,  6., ...,  0.,  0.,  0.]],\n",
       " \n",
       "        [[ 0.,  0.,  0., ...,  5.,  0.,  0.],\n",
       "         [ 0.,  0.,  0., ...,  9.,  0.,  0.],\n",
       "         [ 0.,  0.,  3., ...,  6.,  0.,  0.],\n",
       "         ...,\n",
       "         [ 0.,  0.,  1., ...,  6.,  0.,  0.],\n",
       "         [ 0.,  0.,  1., ...,  6.,  0.,  0.],\n",
       "         [ 0.,  0.,  0., ..., 10.,  0.,  0.]],\n",
       " \n",
       "        [[ 0.,  0.,  0., ..., 12.,  0.,  0.],\n",
       "         [ 0.,  0.,  3., ..., 14.,  0.,  0.],\n",
       "         [ 0.,  0.,  8., ..., 16.,  0.,  0.],\n",
       "         ...,\n",
       "         [ 0.,  9., 16., ...,  0.,  0.,  0.],\n",
       "         [ 0.,  3., 13., ..., 11.,  5.,  0.],\n",
       "         [ 0.,  0.,  0., ..., 16.,  9.,  0.]],\n",
       " \n",
       "        ...,\n",
       " \n",
       "        [[ 0.,  0.,  1., ...,  1.,  0.,  0.],\n",
       "         [ 0.,  0., 13., ...,  2.,  1.,  0.],\n",
       "         [ 0.,  0., 16., ..., 16.,  5.,  0.],\n",
       "         ...,\n",
       "         [ 0.,  0., 16., ..., 15.,  0.,  0.],\n",
       "         [ 0.,  0., 15., ..., 16.,  0.,  0.],\n",
       "         [ 0.,  0.,  2., ...,  6.,  0.,  0.]],\n",
       " \n",
       "        [[ 0.,  0.,  2., ...,  0.,  0.,  0.],\n",
       "         [ 0.,  0., 14., ..., 15.,  1.,  0.],\n",
       "         [ 0.,  4., 16., ..., 16.,  7.,  0.],\n",
       "         ...,\n",
       "         [ 0.,  0.,  0., ..., 16.,  2.,  0.],\n",
       "         [ 0.,  0.,  4., ..., 16.,  2.,  0.],\n",
       "         [ 0.,  0.,  5., ..., 12.,  0.,  0.]],\n",
       " \n",
       "        [[ 0.,  0., 10., ...,  1.,  0.,  0.],\n",
       "         [ 0.,  2., 16., ...,  1.,  0.,  0.],\n",
       "         [ 0.,  0., 15., ..., 15.,  0.,  0.],\n",
       "         ...,\n",
       "         [ 0.,  4., 16., ..., 16.,  6.,  0.],\n",
       "         [ 0.,  8., 16., ..., 16.,  8.,  0.],\n",
       "         [ 0.,  1.,  8., ..., 12.,  1.,  0.]]]),\n",
       " 'DESCR': \".. _digits_dataset:\\n\\nOptical recognition of handwritten digits dataset\\n--------------------------------------------------\\n\\n**Data Set Characteristics:**\\n\\n    :Number of Instances: 1797\\n    :Number of Attributes: 64\\n    :Attribute Information: 8x8 image of integer pixels in the range 0..16.\\n    :Missing Attribute Values: None\\n    :Creator: E. Alpaydin (alpaydin '@' boun.edu.tr)\\n    :Date: July; 1998\\n\\nThis is a copy of the test set of the UCI ML hand-written digits datasets\\nhttps://archive.ics.uci.edu/ml/datasets/Optical+Recognition+of+Handwritten+Digits\\n\\nThe data set contains images of hand-written digits: 10 classes where\\neach class refers to a digit.\\n\\nPreprocessing programs made available by NIST were used to extract\\nnormalized bitmaps of handwritten digits from a preprinted form. From a\\ntotal of 43 people, 30 contributed to the training set and different 13\\nto the test set. 32x32 bitmaps are divided into nonoverlapping blocks of\\n4x4 and the number of on pixels are counted in each block. This generates\\nan input matrix of 8x8 where each element is an integer in the range\\n0..16. This reduces dimensionality and gives invariance to small\\ndistortions.\\n\\nFor info on NIST preprocessing routines, see M. D. Garris, J. L. Blue, G.\\nT. Candela, D. L. Dimmick, J. Geist, P. J. Grother, S. A. Janet, and C.\\nL. Wilson, NIST Form-Based Handprint Recognition System, NISTIR 5469,\\n1994.\\n\\n.. topic:: References\\n\\n  - C. Kaynak (1995) Methods of Combining Multiple Classifiers and Their\\n    Applications to Handwritten Digit Recognition, MSc Thesis, Institute of\\n    Graduate Studies in Science and Engineering, Bogazici University.\\n  - E. Alpaydin, C. Kaynak (1998) Cascading Classifiers, Kybernetika.\\n  - Ken Tang and Ponnuthurai N. Suganthan and Xi Yao and A. Kai Qin.\\n    Linear dimensionalityreduction using relevance weighted LDA. School of\\n    Electrical and Electronic Engineering Nanyang Technological University.\\n    2005.\\n  - Claudio Gentile. A New Approximate Maximal Margin Classification\\n    Algorithm. NIPS. 2000.\\n\"}"
      ]
     },
     "execution_count": 38,
     "metadata": {},
     "output_type": "execute_result"
    }
   ],
   "source": [
    "import pandas as pd\n",
    "import numpy as np\n",
    "from sklearn.datasets import load_digits\n",
    "obj=load_digits()\n",
    "obj"
   ]
  },
  {
   "cell_type": "code",
   "execution_count": 39,
   "id": "b81088f7",
   "metadata": {},
   "outputs": [],
   "source": [
    "x=obj.get('data')\n",
    "y=obj.get('target')\n",
    "from sklearn.model_selection import train_test_split\n",
    "x_train,x_test,y_train,y_test=train_test_split(x,y,test_size=0.20)"
   ]
  },
  {
   "cell_type": "code",
   "execution_count": 40,
   "id": "d8624942",
   "metadata": {},
   "outputs": [
    {
     "data": {
      "text/plain": [
       "((1437, 64), (1437,))"
      ]
     },
     "execution_count": 40,
     "metadata": {},
     "output_type": "execute_result"
    }
   ],
   "source": [
    "x_train.shape,y_train.shape"
   ]
  },
  {
   "cell_type": "code",
   "execution_count": 41,
   "id": "c71cf605",
   "metadata": {},
   "outputs": [
    {
     "data": {
      "text/plain": [
       "array([0.31540942, 0.17548834, 0.14298868, 0.11331785, 0.08051103,\n",
       "       0.06038153])"
      ]
     },
     "execution_count": 41,
     "metadata": {},
     "output_type": "execute_result"
    }
   ],
   "source": [
    "from sklearn.discriminant_analysis import LinearDiscriminantAnalysis\n",
    "LDA=LinearDiscriminantAnalysis(n_components=6)\n",
    "LDA.fit(x_train,y_train)\n",
    "LDA.fit(x_test,y_test)\n",
    "LDA.explained_variance_ratio_\n"
   ]
  },
  {
   "cell_type": "code",
   "execution_count": 42,
   "id": "88661adc",
   "metadata": {},
   "outputs": [],
   "source": [
    "x_train=LDA.transform(x_train)\n"
   ]
  },
  {
   "cell_type": "code",
   "execution_count": 43,
   "id": "4bf28ce7",
   "metadata": {},
   "outputs": [],
   "source": [
    "x_test=LDA.transform(x_test)"
   ]
  },
  {
   "cell_type": "code",
   "execution_count": 44,
   "id": "3da10f64",
   "metadata": {},
   "outputs": [
    {
     "data": {
      "text/plain": [
       "((1437, 6), (360, 6))"
      ]
     },
     "execution_count": 44,
     "metadata": {},
     "output_type": "execute_result"
    }
   ],
   "source": [
    "x_train.shape,x_test.shape"
   ]
  },
  {
   "cell_type": "code",
   "execution_count": 45,
   "id": "a21753dc",
   "metadata": {},
   "outputs": [
    {
     "data": {
      "text/plain": [
       "array([3, 7, 3, 6, 5, 3, 4, 6, 0, 3, 9, 6, 6, 1, 8, 8, 2, 7, 8, 9, 3, 1,\n",
       "       8, 5, 6, 9, 4, 2, 8, 6, 7, 4, 8, 5, 8, 8, 4, 3, 9, 0, 7, 1, 4, 3,\n",
       "       1, 3, 5, 5, 3, 6, 1, 0, 0, 3, 3, 4, 9, 2, 9, 7, 0, 2, 3, 0, 8, 0,\n",
       "       4, 3, 5, 3, 3, 9, 8, 4, 6, 7, 5, 6, 3, 1, 9, 7, 1, 7, 3, 1, 0, 3,\n",
       "       9, 8, 2, 3, 5, 5, 8, 1, 1, 8, 8, 2, 0, 8, 1, 7, 8, 2, 1, 2, 9, 1,\n",
       "       4, 1, 2, 9, 0, 9, 1, 6, 5, 7, 9, 7, 1, 8, 1, 3, 4, 0, 3, 6, 0, 1,\n",
       "       4, 8, 2, 5, 7, 2, 0, 9, 1, 7, 9, 2, 8, 3, 1, 0, 4, 4, 0, 5, 1, 5,\n",
       "       7, 3, 8, 2, 6, 2, 7, 6, 8, 7, 1, 6, 3, 1, 3, 1, 9, 2, 0, 8, 3, 8,\n",
       "       7, 8, 4, 8, 6, 1, 4, 1, 0, 8, 6, 2, 2, 8, 8, 5, 2, 8, 2, 5, 0, 8,\n",
       "       4, 6, 9, 5, 9, 7, 5, 7, 7, 6, 5, 3, 0, 5, 4, 4, 7, 0, 0, 6, 5, 6,\n",
       "       8, 8, 7, 5, 3, 5, 3, 8, 5, 6, 8, 1, 2, 7, 8, 6, 1, 2, 2, 8, 6, 9,\n",
       "       9, 2, 2, 9, 6, 4, 0, 2, 2, 3, 1, 4, 0, 1, 5, 8, 9, 3, 4, 1, 9, 6,\n",
       "       8, 4, 8, 3, 5, 7, 9, 7, 7, 5, 2, 4, 0, 6, 7, 9, 4, 3, 5, 9, 9, 5,\n",
       "       4, 7, 2, 0, 1, 5, 5, 6, 5, 3, 8, 2, 6, 9, 1, 3, 1, 4, 9, 1, 5, 3,\n",
       "       1, 6, 3, 1, 5, 2, 3, 9, 2, 1, 8, 1, 6, 7, 1, 0, 4, 9, 2, 1, 4, 5,\n",
       "       7, 6, 0, 6, 0, 5, 3, 4, 8, 1, 0, 3, 0, 6, 1, 8, 9, 1, 2, 0, 0, 1,\n",
       "       5, 7, 6, 2, 5, 0, 2, 0])"
      ]
     },
     "execution_count": 45,
     "metadata": {},
     "output_type": "execute_result"
    }
   ],
   "source": [
    "from sklearn.linear_model import LogisticRegression\n",
    "LG=LogisticRegression()\n",
    "LG.fit(x_train,y_train)\n",
    "LG_output=LG.predict(x_test)\n",
    "LG_output"
   ]
  },
  {
   "cell_type": "code",
   "execution_count": 46,
   "id": "d5ef0a26",
   "metadata": {},
   "outputs": [
    {
     "data": {
      "text/plain": [
       "0.9416666666666667"
      ]
     },
     "execution_count": 46,
     "metadata": {},
     "output_type": "execute_result"
    }
   ],
   "source": [
    "from sklearn.metrics import accuracy_score\n",
    "A_S=accuracy_score(LG_output,y_test)\n",
    "A_S"
   ]
  },
  {
   "cell_type": "code",
   "execution_count": 59,
   "id": "e098947a",
   "metadata": {},
   "outputs": [
    {
     "name": "stdout",
     "output_type": "stream",
     "text": [
      "0.9611111111111111\n"
     ]
    },
    {
     "name": "stderr",
     "output_type": "stream",
     "text": [
      "C:\\Anaconda\\lib\\site-packages\\sklearn\\linear_model\\_logistic.py:763: ConvergenceWarning: lbfgs failed to converge (status=1):\n",
      "STOP: TOTAL NO. of ITERATIONS REACHED LIMIT.\n",
      "\n",
      "Increase the number of iterations (max_iter) or scale the data as shown in:\n",
      "    https://scikit-learn.org/stable/modules/preprocessing.html\n",
      "Please also refer to the documentation for alternative solver options:\n",
      "    https://scikit-learn.org/stable/modules/linear_model.html#logistic-regression\n",
      "  n_iter_i = _check_optimize_result(\n"
     ]
    }
   ],
   "source": [
    "import pandas as pd\n",
    "import numpy as np\n",
    "from sklearn.datasets import load_digits\n",
    "obj=load_digits()\n",
    "x=obj.get('data')\n",
    "y=obj.get('target')\n",
    "from sklearn.decomposition import PCA\n",
    "obj3=PCA(0.95)\n",
    "x=obj3.fit_transform(x)\n",
    "from sklearn.model_selection import train_test_split\n",
    "x_train,x_test,y_train,y_test=train_test_split(x,y,test_size=0.20)\n",
    "from sklearn.linear_model import LogisticRegression\n",
    "LG=LogisticRegression()\n",
    "LG.fit(x_train,y_train)\n",
    "LG_output=LG.predict(x_test)\n",
    "from sklearn.metrics import accuracy_score\n",
    "PCA_acc=accuracy_score(LG_output,y_test)\n",
    "print(PCA_acc)\n"
   ]
  },
  {
   "cell_type": "code",
   "execution_count": 60,
   "id": "80eb3690",
   "metadata": {},
   "outputs": [
    {
     "name": "stdout",
     "output_type": "stream",
     "text": [
      "LDA accuracy: 0.9694444444444444\n",
      "PCA accuracy: 0.9611111111111111\n"
     ]
    }
   ],
   "source": [
    "print('LDA accuracy:',LDA_acc)\n",
    "print('PCA accuracy:',PCA_acc)"
   ]
  },
  {
   "cell_type": "code",
   "execution_count": null,
   "id": "f0c56514",
   "metadata": {},
   "outputs": [],
   "source": []
  },
  {
   "cell_type": "code",
   "execution_count": null,
   "id": "7ee600da",
   "metadata": {},
   "outputs": [],
   "source": []
  }
 ],
 "metadata": {
  "kernelspec": {
   "display_name": "Python 3 (ipykernel)",
   "language": "python",
   "name": "python3"
  },
  "language_info": {
   "codemirror_mode": {
    "name": "ipython",
    "version": 3
   },
   "file_extension": ".py",
   "mimetype": "text/x-python",
   "name": "python",
   "nbconvert_exporter": "python",
   "pygments_lexer": "ipython3",
   "version": "3.9.7"
  }
 },
 "nbformat": 4,
 "nbformat_minor": 5
}
